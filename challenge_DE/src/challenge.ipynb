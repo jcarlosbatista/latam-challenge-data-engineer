{
 "cells": [
  {
   "cell_type": "markdown",
   "metadata": {},
   "source": [
    "En este archivo puedes escribir lo que estimes conveniente. Te recomendamos detallar tu solución y todas las suposiciones que estás considerando. Aquí puedes ejecutar las funciones que definiste en los otros archivos de la carpeta src, medir el tiempo, memoria, etc."
   ]
  },
  {
   "cell_type": "code",
   "execution_count": null,
   "metadata": {},
   "outputs": [],
   "source": [
    "from q1_time import q1_time\n",
    "from q1_memory import q1_memory\n",
    "from q2_time import q2_time\n",
    "from q2_memory import q2_memory\n",
    "from q3_time import q3_time\n",
    "from q3_memory import q3_memory\n",
    "\n",
    "import os\n",
    "\n",
    "# Caminho do arquivo de dados\n",
    "file_path = \"/Users/batista/Documents/workspace/Projects_Latam/challenge_DE/files/farmers-protest-tweets-2021-2-4.json\""
   ]
  },
  {
   "cell_type": "code",
   "execution_count": null,
   "metadata": {},
   "outputs": [],
   "source": [
    "if not os.path.exists(file_path):\n",
    "    raise FileNotFoundError(f\"❌ Arquivo não encontrado: {file_path}\")\n",
    "else:\n",
    "    print(\"📁 Arquivo encontrado com sucesso.\")"
   ]
  },
  {
   "cell_type": "code",
   "execution_count": null,
   "metadata": {},
   "outputs": [],
   "source": [
    "print(\"\\n🔹 Q1 - Usuário mais ativo por dia (Tempo):\")\n",
    "q1_time_result = q1_time(file_path)\n",
    "for date, user in q1_time_result:\n",
    "    print(f\"{date}: {user}\")\n",
    "\n",
    "print(\"\\n🔹 Q1 - Usuário mais ativo por dia (Memória):\")\n",
    "q1_memory(file_path)"
   ]
  },
  {
   "cell_type": "code",
   "execution_count": null,
   "metadata": {},
   "outputs": [],
   "source": [
    "print(\"\\n🔹 Q2 - Top 10 Tweets mais curtidos (Tempo):\")\n",
    "q2_time_result = q2_time(file_path)\n",
    "for i, (tweet, likes) in enumerate(q2_time_result, start=1):\n",
    "    print(f\"{i}. {likes} likes - {tweet[:80]}...\")\n",
    "\n",
    "print(\"\\n🔹 Q2 - Top 10 Tweets mais curtidos (Memória):\")\n",
    "q2_memory(file_path)"
   ]
  },
  {
   "cell_type": "code",
   "execution_count": null,
   "metadata": {},
   "outputs": [],
   "source": [
    "print(\"\\n🔹 Q3 - Países mais mencionados (Tempo):\")\n",
    "q3_time_result = q3_time(file_path)\n",
    "for country, count in q3_time_result:\n",
    "    print(f\"{country.title()}: {count}\")\n",
    "\n",
    "print(\"\\n🔹 Q3 - Países mais mencionados (Memória):\")\n",
    "q3_memory(file_path)"
   ]
  },
  {
   "cell_type": "code",
   "execution_count": null,
   "metadata": {},
   "outputs": [],
   "source": []
  },
  {
   "cell_type": "code",
   "execution_count": null,
   "metadata": {},
   "outputs": [],
   "source": []
  },
  {
   "cell_type": "code",
   "execution_count": null,
   "metadata": {},
   "outputs": [],
   "source": []
  },
  {
   "cell_type": "code",
   "execution_count": null,
   "metadata": {},
   "outputs": [],
   "source": [
    "ses mais mencionados (Memória):\")\n",
    "q3_memory(file_path)"
   ]
  }
 ],
 "metadata": {
  "kernelspec": {
   "display_name": ".venv",
   "language": "python",
   "name": "python3"
  },
  "language_info": {
   "codemirror_mode": {
    "name": "ipython",
    "version": 3
   },
   "file_extension": ".py",
   "mimetype": "text/x-python",
   "name": "python",
   "nbconvert_exporter": "python",
   "pygments_lexer": "ipython3",
   "version": "3.12.0"
  },
  "orig_nbformat": 4
 },
 "nbformat": 4,
 "nbformat_minor": 2
}
