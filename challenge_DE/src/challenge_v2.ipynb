{
 "cells": [
  {
   "cell_type": "markdown",
   "metadata": {},
   "source": [
    "En este archivo puedes escribir lo que estimes conveniente. Te recomendamos detallar tu solución y todas las suposiciones que estás considerando. Aquí puedes ejecutar las funciones que definiste en los otros archivos de la carpeta src, medir el tiempo, memoria, etc."
   ]
  },
  {
   "cell_type": "code",
   "execution_count": 3,
   "metadata": {},
   "outputs": [],
   "source": [
    "from q1_time import q1_time\n",
    "from q1_memory import q1_memory\n",
    "from q2_time import q2_time\n",
    "from q2_memory import q2_memory\n",
    "from q3_time import q3_time\n",
    "from q3_memory import q3_memory\n",
    "\n",
    "import os\n",
    "\n",
    "# Caminho do arquivo de dados\n",
    "file_path = \"/Users/batista/Documents/workspace/Projects_Latam/challenge_DE/files/farmers-protest-tweets-2021-2-4.json\""
   ]
  },
  {
   "cell_type": "code",
   "execution_count": 4,
   "metadata": {},
   "outputs": [
    {
     "name": "stdout",
     "output_type": "stream",
     "text": [
      "📁 Arquivo encontrado com sucesso.\n"
     ]
    }
   ],
   "source": [
    "if not os.path.exists(file_path):\n",
    "    raise FileNotFoundError(f\"❌ Arquivo não encontrado: {file_path}\")\n",
    "else:\n",
    "    print(\"📁 Arquivo encontrado com sucesso.\")"
   ]
  },
  {
   "cell_type": "code",
   "execution_count": 5,
   "metadata": {},
   "outputs": [
    {
     "name": "stdout",
     "output_type": "stream",
     "text": [
      "\n",
      "🔹 Q1 - Usuário mais ativo por dia (Tempo):\n",
      "Tempo de execução: 1.52 segundos\n",
      "2021-02-12: RanbirS00614606\n",
      "2021-02-13: MaanDee08215437\n",
      "2021-02-14: rebelpacifist\n",
      "2021-02-15: jot__b\n",
      "2021-02-16: jot__b\n",
      "2021-02-17: RaaJVinderkaur\n",
      "2021-02-18: neetuanjle_nitu\n",
      "2021-02-19: Preetm91\n",
      "2021-02-20: MangalJ23056160\n",
      "2021-02-21: Surrypuria\n",
      "2021-02-22: preetysaini321\n",
      "2021-02-23: Surrypuria\n",
      "2021-02-24: preetysaini321\n",
      "\n",
      "🔹 Q1 - Usuário mais ativo por dia (Memória):\n",
      "Uso de memória: 1.48 MiB\n"
     ]
    },
    {
     "data": {
      "text/plain": [
       "[(datetime.date(2021, 2, 12), 'RanbirS00614606'),\n",
       " (datetime.date(2021, 2, 13), 'MaanDee08215437'),\n",
       " (datetime.date(2021, 2, 14), 'rebelpacifist'),\n",
       " (datetime.date(2021, 2, 15), 'jot__b'),\n",
       " (datetime.date(2021, 2, 16), 'jot__b'),\n",
       " (datetime.date(2021, 2, 17), 'RaaJVinderkaur'),\n",
       " (datetime.date(2021, 2, 18), 'neetuanjle_nitu'),\n",
       " (datetime.date(2021, 2, 19), 'Preetm91'),\n",
       " (datetime.date(2021, 2, 20), 'MangalJ23056160'),\n",
       " (datetime.date(2021, 2, 21), 'Surrypuria'),\n",
       " (datetime.date(2021, 2, 22), 'preetysaini321'),\n",
       " (datetime.date(2021, 2, 23), 'Surrypuria'),\n",
       " (datetime.date(2021, 2, 24), 'preetysaini321')]"
      ]
     },
     "execution_count": 5,
     "metadata": {},
     "output_type": "execute_result"
    }
   ],
   "source": [
    "print(\"\\n🔹 Q1 - Usuário mais ativo por dia (Tempo):\")\n",
    "q1_time_result = q1_time(file_path)\n",
    "for date, user in q1_time_result:\n",
    "    print(f\"{date}: {user}\")\n",
    "\n",
    "print(\"\\n🔹 Q1 - Usuário mais ativo por dia (Memória):\")\n",
    "q1_memory(file_path)"
   ]
  },
  {
   "cell_type": "code",
   "execution_count": 6,
   "metadata": {},
   "outputs": [
    {
     "name": "stdout",
     "output_type": "stream",
     "text": [
      "\n",
      "🔹 Q2 - Top 10 Tweets mais curtidos (Tempo):\n",
      "Tempo de execução: 1.53 segundos\n",
      "1. 27888 likes - There's a #FarmersProtest happening in Germany.\n",
      "\n",
      "But the German Govt didn’t bloc...\n",
      "2. 25824 likes - मध्यप्रदेश में निजी व्यापारी 200 करोड़ का धान खरीदकर भाग गया। किसान पैसे के लिए ...\n",
      "3. 19284 likes - लहरों को ख़ामोश देख कर ये ना समझना कि समंदर में रवानी नहीं , हम जब भी उठेंगे तूफ...\n",
      "4. 19198 likes - हाँ मैं जानता हूँ कि मैं शायर नहीं, और ज़ुल्म के ख़िलाफ़ ना लिखूँ ?- ज़ालिम के ड...\n",
      "5. 17325 likes - Farmers are so sweet. Y’all have to see this @AmandaCerny @rihanna 🖤🥺 #FarmersPr...\n",
      "6. 15582 likes - कलियुग  है साहब , यहाँ झूठे को स्वीकार किया जाता है और सच्चे का शिकार किया जाता ...\n",
      "7. 12949 likes - Bollywood has betrayed Panjab &amp; the farmers of India ! \n",
      "\n",
      "Heroes to Zeroes !!...\n",
      "8. 12782 likes - मेरी दोस्ती का फ़ायदा उठा लेना , क्योंकि मेरे विरोध का नुक़सान सह नहीं पाओगे।   ...\n",
      "9. 12317 likes - गढ़ी सांपला की पंचायत में पधारे सभी किसानों का धन्यवाद\n",
      "#FarmersProtest https://t...\n",
      "10. 12273 likes - Wish you fly over the Delhi border and look at the tough times farmers are facin...\n",
      "\n",
      "🔹 Q2 - Top 10 Tweets mais curtidos (Memória):\n",
      "Uso de memória: 13.66 MiB\n"
     ]
    },
    {
     "data": {
      "text/plain": [
       "[(\"There's a #FarmersProtest happening in Germany.\\n\\nBut the German Govt didn’t block their path with barbed wires, dig highways or label them Anti-National. And neither did the Govt declare it an ‘internal matter’ where others can’t comment. I guess that’s how democracies work. https://t.co/pZtigTgWT8\",\n",
       "  27888),\n",
       " ('मध्यप्रदेश में निजी व्यापारी 200 करोड़ का धान खरीदकर भाग गया। किसान पैसे के लिए धरना दे रहे है।\\nअब भी बताना पड़ेगा काला क्या है\\n#FarmLaws #FarmersProtest #किसान_एकता_जिंदाबाद',\n",
       "  25824),\n",
       " ('लहरों को ख़ामोश देख कर ये ना समझना कि समंदर में रवानी नहीं , हम जब भी उठेंगे तूफ़ान बन कर उठेंगे , बस उठने की अभी ठानी नहीं ... #FarmersProtest                                        #JittegaKisaan',\n",
       "  19284),\n",
       " ('हाँ मैं जानता हूँ कि मैं शायर नहीं, और ज़ुल्म के ख़िलाफ़ ना लिखूँ ?- ज़ालिम के डर से ... अरे गुरु गोबिंद सिंह का सिख हूँ , कोई कायर नहीं ।   #FarmersProtest                                       #FarmLaws',\n",
       "  19198),\n",
       " ('Farmers are so sweet. Y’all have to see this @AmandaCerny @rihanna 🖤🥺 #FarmersProtest #ModiWhereAreMissingFarmers #ReleaseDetainedFarmers https://t.co/STVWhWvBvQ',\n",
       "  17325),\n",
       " ('कलियुग  है साहब , यहाँ झूठे को स्वीकार किया जाता है और सच्चे का शिकार किया जाता है ।      #FarmersProtest                                         #FarmLaws',\n",
       "  15582),\n",
       " ('Bollywood has betrayed Panjab &amp; the farmers of India ! \\n\\nHeroes to Zeroes !! \\n\\n#FarmersProtest #StandWithFarmers',\n",
       "  12949),\n",
       " ('मेरी दोस्ती का फ़ायदा उठा लेना , क्योंकि मेरे विरोध का नुक़सान सह नहीं पाओगे।     #FarmersProtest',\n",
       "  12782),\n",
       " ('गढ़ी सांपला की पंचायत में पधारे सभी किसानों का धन्यवाद\\n#FarmersProtest https://t.co/Z0j1jKH2cc',\n",
       "  12317),\n",
       " ('Wish you fly over the Delhi border and look at the tough times farmers are facing.. #FarmersProtest https://t.co/Hrhpv6qgcn',\n",
       "  12273)]"
      ]
     },
     "execution_count": 6,
     "metadata": {},
     "output_type": "execute_result"
    }
   ],
   "source": [
    "print(\"\\n🔹 Q2 - Top 10 Tweets mais curtidos (Tempo):\")\n",
    "q2_time_result = q2_time(file_path)\n",
    "for i, (tweet, likes) in enumerate(q2_time_result, start=1):\n",
    "    print(f\"{i}. {likes} likes - {tweet[:80]}...\")\n",
    "\n",
    "print(\"\\n🔹 Q2 - Top 10 Tweets mais curtidos (Memória):\")\n",
    "q2_memory(file_path)"
   ]
  },
  {
   "cell_type": "code",
   "execution_count": 7,
   "metadata": {},
   "outputs": [
    {
     "name": "stdout",
     "output_type": "stream",
     "text": [
      "\n",
      "🔹 Q3 - Países mais mencionados (Tempo):\n",
      "Tempo de execução: 1.83 segundos\n",
      "India: 8553\n",
      "Canada: 263\n",
      "Australia: 167\n",
      "Uk: 163\n",
      "Usa: 80\n",
      "\n",
      "🔹 Q3 - Países mais mencionados (Memória):\n",
      "Uso de memória: 2.41 MiB\n"
     ]
    },
    {
     "data": {
      "text/plain": [
       "[('india', 8553),\n",
       " ('canada', 263),\n",
       " ('australia', 167),\n",
       " ('uk', 163),\n",
       " ('usa', 80)]"
      ]
     },
     "execution_count": 7,
     "metadata": {},
     "output_type": "execute_result"
    }
   ],
   "source": [
    "print(\"\\n🔹 Q3 - Países mais mencionados (Tempo):\")\n",
    "q3_time_result = q3_time(file_path)\n",
    "for country, count in q3_time_result:\n",
    "    print(f\"{country.title()}: {count}\")\n",
    "\n",
    "print(\"\\n🔹 Q3 - Países mais mencionados (Memória):\")\n",
    "q3_memory(file_path)"
   ]
  }
 ],
 "metadata": {
  "kernelspec": {
   "display_name": ".venv",
   "language": "python",
   "name": "python3"
  },
  "language_info": {
   "codemirror_mode": {
    "name": "ipython",
    "version": 3
   },
   "file_extension": ".py",
   "mimetype": "text/x-python",
   "name": "python",
   "nbconvert_exporter": "python",
   "pygments_lexer": "ipython3",
   "version": "3.12.0"
  },
  "orig_nbformat": 4
 },
 "nbformat": 4,
 "nbformat_minor": 2
}
